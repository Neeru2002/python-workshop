{
 "cells": [
  {
   "cell_type": "code",
   "execution_count": null,
   "metadata": {},
   "outputs": [],
   "source": [
    "n=int(input('Enter n value: '))\n",
    "if n==0:\n",
    "    print(\"Sunday\")\n",
    "elif n==1:\n",
    "    print(\"Monda\")\n",
    "elif n==2:\n",
    "    print(\"Thesday\")\n",
    "elif n==3:\n",
    "    print(\"Wednesday\")\n",
    "elif n==4:\n",
    "    print(\"Thursday\")\n",
    "elif n==5:\n",
    "    print(\"Friday\")\n",
    "elif n==6:=Saturday\")"
   ]
  },
  {
   "cell_type": "code",
   "execution_count": null,
   "metadata": {},
   "outputs": [],
   "source": [
    "Username = 'Sai@123'\n",
    "Password = 'Sai123'\n",
    "if(Username == Password):\n",
    "    print(\"Welcome to Username\")\n",
    "else:\n",
    "    print(\"Invalid Username\")"
   ]
  },
  {
   "cell_type": "code",
   "execution_count": null,
   "metadata": {},
   "outputs": [],
   "source": [
    "val = input(\"Enter a val value:\")\n",
    "if(val, 'a'):\n",
    "    print(val,\"is an Alphabet\")\n",
    "elif(val >= 0 and val <= 9):\n",
    "    print(val, \"is a digit\")\n",
    "else:\n",
    "    print(val,\"is a special symbol\")"
   ]
  },
  {
   "cell_type": "code",
   "execution_count": null,
   "metadata": {},
   "outputs": [],
   "source": [
    "print(\"Helloworld\\n\" *10)"
   ]
  },
  {
   "cell_type": "code",
   "execution_count": null,
   "metadata": {},
   "outputs": [],
   "source": [
    "for var in range(0,10,1):\n",
    "    print(\"Helloworld\")"
   ]
  },
  {
   "cell_type": "code",
   "execution_count": null,
   "metadata": {},
   "outputs": [],
   "source": [
    "for i in range(0,11,2):\n",
    "    print(i)"
   ]
  },
  {
   "cell_type": "code",
   "execution_count": null,
   "metadata": {},
   "outputs": [],
   "source": [
    "for i in range(0,12,3):\n",
    "    print(i)"
   ]
  },
  {
   "cell_type": "code",
   "execution_count": null,
   "metadata": {},
   "outputs": [],
   "source": [
    "for i in range(20):\n",
    "    if i%2==0:\n",
    "        print(i)"
   ]
  },
  {
   "cell_type": "code",
   "execution_count": null,
   "metadata": {},
   "outputs": [],
   "source": [
    "for i in range(20):\n",
    "    if i%2!=0:\n",
    "        print(i)"
   ]
  },
  {
   "cell_type": "code",
   "execution_count": null,
   "metadata": {},
   "outputs": [],
   "source": [
    "for i in range(20):\n",
    "    if i%2!=0:\n",
    "        print(i, end=' ')"
   ]
  },
  {
   "cell_type": "code",
   "execution_count": null,
   "metadata": {},
   "outputs": [],
   "source": [
    "# print table\n",
    "t=int(input('enter table number: '))\n",
    "t_1=int(input('enter table length: '))\n",
    "for i in range(1,t_1+1):\n",
    "    print('{} * {} = {}'.format(t,i,t*i))"
   ]
  },
  {
   "cell_type": "code",
   "execution_count": null,
   "metadata": {},
   "outputs": [],
   "source": [
    "# To find factors of a number\n",
    "n=int(input ('enter number: '))\n",
    "for i in range(1,n+1):\n",
    "    if n%i == 0:\n",
    "        print(i,end=' ')"
   ]
  },
  {
   "cell_type": "code",
   "execution_count": 3,
   "metadata": {},
   "outputs": [
    {
     "name": "stdout",
     "output_type": "stream",
     "text": [
      "enter a number: 10\n",
      "1 2 5 8\n"
     ]
    }
   ],
   "source": [
    "# To find factors of sum of a num\n",
    "n=int(input('enter a number: '))\n",
    "f_s=0\n",
    "for i in range(1,n):\n",
    "    if n%i == 0:\n",
    "        f_s+=i\n",
    "        print(i,end = ' ')\n",
    "print(f_s)"
   ]
  },
  {
   "cell_type": "code",
   "execution_count": 5,
   "metadata": {},
   "outputs": [
    {
     "name": "stdout",
     "output_type": "stream",
     "text": [
      "enter a number: 32\n",
      "1 2 4 8 16 Sum of factor 31\n",
      "Not a perfect number\n"
     ]
    }
   ],
   "source": [
    "# Perfect Number\n",
    "n=int(input('enter a number: '))\n",
    "f_s=0\n",
    "for i in range(1,n):\n",
    "    if n%i == 0:\n",
    "        f_s+=i\n",
    "        print(i,end = ' ')\n",
    "print(\"Sum of factor\",f_s)\n",
    "if f_s == n:\n",
    "    print(\"perfect number\")\n",
    "else:\n",
    "    print(\"Not a perfect number\")"
   ]
  },
  {
   "cell_type": "code",
   "execution_count": 14,
   "metadata": {},
   "outputs": [
    {
     "name": "stdout",
     "output_type": "stream",
     "text": [
      "enter factorial number: 4\n",
      "24\n"
     ]
    }
   ],
   "source": [
    "# Factorial Number\n",
    "n=int(input('enter factorial number: '))\n",
    "fact = 1\n",
    "for i in range(1,n+1):\n",
    "    fact*=i\n",
    "print(fact)"
   ]
  },
  {
   "cell_type": "code",
   "execution_count": 2,
   "metadata": {},
   "outputs": [
    {
     "name": "stdout",
     "output_type": "stream",
     "text": [
      "1\n",
      "2\n",
      "3\n",
      "4\n",
      "5\n",
      "6\n",
      "7\n",
      "8\n",
      "9\n"
     ]
    }
   ],
   "source": [
    "# while loop\n",
    "i=1\n",
    "while i<10:\n",
    "    print(i)\n",
    "    i+=1"
   ]
  },
  {
   "cell_type": "code",
   "execution_count": 1,
   "metadata": {},
   "outputs": [
    {
     "name": "stdout",
     "output_type": "stream",
     "text": [
      "10 9 8 7 6 5 4 3 2 1 "
     ]
    }
   ],
   "source": [
    "i=10\n",
    "while i>0:\n",
    "    print(i,end = ' ')\n",
    "    i-=1\n"
   ]
  },
  {
   "cell_type": "code",
   "execution_count": 13,
   "metadata": {},
   "outputs": [
    {
     "ename": "IndentationError",
     "evalue": "unexpected indent (<ipython-input-13-297da484f711>, line 2)",
     "output_type": "error",
     "traceback": [
      "\u001b[1;36m  File \u001b[1;32m\"<ipython-input-13-297da484f711>\"\u001b[1;36m, line \u001b[1;32m2\u001b[0m\n\u001b[1;33m    for i in range(10,0,-1):\u001b[0m\n\u001b[1;37m    ^\u001b[0m\n\u001b[1;31mIndentationError\u001b[0m\u001b[1;31m:\u001b[0m unexpected indent\n"
     ]
    }
   ],
   "source": [
    "# for loop\n",
    " for i in range(10,0,-1):\n",
    "    print(i,end=' ')"
   ]
  },
  {
   "cell_type": "code",
   "execution_count": 9,
   "metadata": {},
   "outputs": [
    {
     "name": "stdout",
     "output_type": "stream",
     "text": [
      "1 2 3 4 5 6 7 8 9 10 "
     ]
    }
   ],
   "source": [
    "i=1\n",
    "while i>0:\n",
    "    print(i,end=' ')\n",
    "    if i==10:\n",
    "        break\n",
    "    i+=1"
   ]
  },
  {
   "cell_type": "code",
   "execution_count": 10,
   "metadata": {},
   "outputs": [
    {
     "name": "stdout",
     "output_type": "stream",
     "text": [
      "1 2 3 4 5 6 7 8 9 10 11 12 13 14 15 16 17 18 19 20 21 22 23 24 25 26 27 28 29 30 31 32 33 34 35 36 37 38 39 40 "
     ]
    }
   ],
   "source": [
    "i=1\n",
    "while i>0:\n",
    "    print(i,end=' ')\n",
    "    if i==40:\n",
    "        break\n",
    "    i+=1"
   ]
  },
  {
   "cell_type": "code",
   "execution_count": 15,
   "metadata": {},
   "outputs": [
    {
     "name": "stdout",
     "output_type": "stream",
     "text": [
      "2 3 4 5 6 7 8 9 10 11 12 13 14 15 16 17 18 19 21 22 23 24 25 26 27 28 29 30 31 32 33 34 35 36 37 38 39 40 41 42 43 44 45 46 47 48 49 50 51 52 53 54 55 56 57 58 59 60 61 62 63 64 66 67 68 69 70 71 72 73 74 75 76 77 78 79 80 81 82 83 84 85 86 87 88 89 90 91 92 93 94 95 96 97 98 99 100 101 102 103 104 105 106 107 108 109 110 111 112 113 114 115 116 117 118 119 120 121 122 123 124 125 126 127 128 129 130 131 132 133 134 135 136 137 138 139 140 141 142 143 144 145 146 147 148 149 150 "
     ]
    }
   ],
   "source": [
    "# continue\n",
    "i=1\n",
    "while i<150:\n",
    "    i+=1\n",
    "    if i == 20 or i == 65:\n",
    "        continue\n",
    "    print(i,end=' ')"
   ]
  },
  {
   "cell_type": "code",
   "execution_count": 22,
   "metadata": {},
   "outputs": [
    {
     "name": "stdout",
     "output_type": "stream",
     "text": [
      "50\n"
     ]
    }
   ],
   "source": [
    " # functions\n",
    "def add(a,b):\n",
    "    c=a+b\n",
    "    print(c)\n",
    "add(10,40)"
   ]
  },
  {
   "cell_type": "code",
   "execution_count": 26,
   "metadata": {},
   "outputs": [
    {
     "name": "stdout",
     "output_type": "stream",
     "text": [
      "enter num127\n",
      "enter num240\n",
      "Sum of two numbers=  67\n"
     ]
    }
   ],
   "source": [
    "# without argument and without return value\n",
    "def add():\n",
    "    num1 = int(input('enter num1'))\n",
    "    num2 = int(input('enter num2'))\n",
    "    print (\"Sum of two numbers= \", num1+num2)\n",
    "add()"
   ]
  },
  {
   "cell_type": "code",
   "execution_count": 31,
   "metadata": {},
   "outputs": [
    {
     "name": "stdout",
     "output_type": "stream",
     "text": [
      "enter a value80\n",
      "enter b value40\n",
      "40\n"
     ]
    }
   ],
   "source": [
    "def sub():\n",
    "    a=int(input('enter a value'))\n",
    "    b=int(input('enter b value'))\n",
    "    print(a-b)\n",
    "sub()"
   ]
  },
  {
   "cell_type": "code",
   "execution_count": 2,
   "metadata": {},
   "outputs": [
    {
     "data": {
      "text/plain": [
       "-20"
      ]
     },
     "execution_count": 2,
     "metadata": {},
     "output_type": "execute_result"
    }
   ],
   "source": [
    "#without argument and with return value\n",
    "def sub():\n",
    "    n1 = 20\n",
    "    n2 = 40\n",
    "    return n1 - n2\n",
    "    print(\"sub\")\n",
    "sub()"
   ]
  },
  {
   "cell_type": "code",
   "execution_count": 6,
   "metadata": {},
   "outputs": [
    {
     "name": "stdout",
     "output_type": "stream",
     "text": [
      "26\n"
     ]
    }
   ],
   "source": [
    "#with argument and without return value\n",
    "def mul(a,b):\n",
    "   c=a*b\n",
    "   print(c)\n",
    "mul(13,2)"
   ]
  },
  {
   "cell_type": "code",
   "execution_count": 10,
   "metadata": {},
   "outputs": [
    {
     "data": {
      "text/plain": [
       "(6, 7, 13, -1, 42, 0.8571428571428571)"
      ]
     },
     "execution_count": 10,
     "metadata": {},
     "output_type": "execute_result"
    }
   ],
   "source": [
    "#with argument and with return value\n",
    "def div(a,b):\n",
    "    return a,b,a+b,a-b,a*b,a/b\n",
    "div(6,7)"
   ]
  },
  {
   "cell_type": "code",
   "execution_count": 14,
   "metadata": {},
   "outputs": [
    {
     "data": {
      "text/plain": [
       "27"
      ]
     },
     "execution_count": 14,
     "metadata": {},
     "output_type": "execute_result"
    }
   ],
   "source": [
    "# default\n",
    "def Default(a=12,b=15):\n",
    "    return a+b\n",
    "Default()"
   ]
  },
  {
   "cell_type": "code",
   "execution_count": 18,
   "metadata": {},
   "outputs": [
    {
     "data": {
      "text/plain": [
       "450"
      ]
     },
     "execution_count": 18,
     "metadata": {},
     "output_type": "execute_result"
    }
   ],
   "source": [
    "# Required or positional\n",
    "def required(a,b,c=72):\n",
    "    return a*b*c\n",
    "required(10,9,5)"
   ]
  },
  {
   "cell_type": "code",
   "execution_count": 19,
   "metadata": {},
   "outputs": [],
   "source": [
    "# variable length arg\n",
    "def var_len(a,*b):\n",
    "    return a+sum(b)"
   ]
  },
  {
   "cell_type": "code",
   "execution_count": 21,
   "metadata": {},
   "outputs": [
    {
     "name": "stdout",
     "output_type": "stream",
     "text": [
      "(1, 2, 3, 4, 5)\n"
     ]
    }
   ],
   "source": [
    "a=1,2,3,4,5,\n",
    "print(a)"
   ]
  },
  {
   "cell_type": "code",
   "execution_count": 31,
   "metadata": {},
   "outputs": [
    {
     "data": {
      "text/plain": [
       "0"
      ]
     },
     "execution_count": 31,
     "metadata": {},
     "output_type": "execute_result"
    }
   ],
   "source": [
    " # keyword arg\n",
    "def keyword(a, b):\n",
    "    return a%b\n",
    "keyword(0,2)"
   ]
  },
  {
   "cell_type": "code",
   "execution_count": 38,
   "metadata": {},
   "outputs": [
    {
     "name": "stdout",
     "output_type": "stream",
     "text": [
      "hello pace welcome Akhil cj\n"
     ]
    }
   ],
   "source": [
    "def keyword(name,college):\n",
    "    print(\"hello {} welcome {}\".format(college,name))\n",
    "keyword(college='pace',name='Akhil cj')"
   ]
  },
  {
   "cell_type": "code",
   "execution_count": 11,
   "metadata": {},
   "outputs": [
    {
     "data": {
      "text/plain": [
       "False"
      ]
     },
     "execution_count": 11,
     "metadata": {},
     "output_type": "execute_result"
    }
   ],
   "source": [
    "# Recursive function\n",
    "def is_prime(n):\n",
    "    if n==1:\n",
    "        return False\n",
    "    cnt = 0 \n",
    "    for i in range(2,n):\n",
    "        if n%i == 0:\n",
    "            cnt+=1\n",
    "            break\n",
    "    if cnt==0:\n",
    "        return True\n",
    "    else:\n",
    "        return False\n",
    "is_prime(15)"
   ]
  },
  {
   "cell_type": "code",
   "execution_count": 2,
   "metadata": {},
   "outputs": [
    {
     "data": {
      "text/plain": [
       "True"
      ]
     },
     "execution_count": 2,
     "metadata": {},
     "output_type": "execute_result"
    }
   ],
   "source": [
    "def is_prime(n):\n",
    "    if n==1:\n",
    "        return False\n",
    "    cnt = 0\n",
    "    for i in range(2,n):\n",
    "        if n%i == 0:\n",
    "                cnt+=1\n",
    "                break\n",
    "        if cnt==0:\n",
    "            return True\n",
    "        else:\n",
    "            return False\n",
    "is_prime(7)"
   ]
  },
  {
   "cell_type": "code",
   "execution_count": 12,
   "metadata": {},
   "outputs": [
    {
     "name": "stdout",
     "output_type": "stream",
     "text": [
      "11\n",
      "13\n",
      "17\n",
      "19\n"
     ]
    }
   ],
   "source": [
    "def prime_gen(s,e):\n",
    "    for i in range(s,e+1):\n",
    "        if is_prime(i):\n",
    "            print(i)\n",
    "prime_gen(10,20)"
   ]
  },
  {
   "cell_type": "code",
   "execution_count": 4,
   "metadata": {},
   "outputs": [
    {
     "data": {
      "text/plain": [
       "False"
      ]
     },
     "execution_count": 4,
     "metadata": {},
     "output_type": "execute_result"
    }
   ],
   "source": [
    "# perfect number\n",
    "def is_perfect(n):\n",
    "    pn=0\n",
    "    for i in range(1,n):\n",
    "        if n%i==0:\n",
    "            pn+=i\n",
    "    if pn==n:\n",
    "        return True\n",
    "    else:\n",
    "        return False\n",
    "is_perfect(13)"
   ]
  },
  {
   "cell_type": "code",
   "execution_count": 5,
   "metadata": {},
   "outputs": [
    {
     "name": "stdout",
     "output_type": "stream",
     "text": [
      "6 28 496 "
     ]
    }
   ],
   "source": [
    "# perfect generation\n",
    "def perfect_gen(start,end):\n",
    "    for i in range(start,end+1):\n",
    "        if is_perfect(i):\n",
    "            print(i,end=' ')\n",
    "perfect_gen(6,1000)"
   ]
  },
  {
   "cell_type": "code",
   "execution_count": 6,
   "metadata": {},
   "outputs": [
    {
     "name": "stdout",
     "output_type": "stream",
     "text": [
      "enter a value1\n",
      "enter a value1000\n",
      "6 28 496 "
     ]
    }
   ],
   "source": [
    "# perfect generation dynamic\n",
    "def perfect_gen(start,end):\n",
    "    for i in range(start,end+1):\n",
    "        if is_perfect(i):\n",
    "            print(i,end=' ')\n",
    "start=int(input('enter a value'))\n",
    "end=int(input('enter a value'))\n",
    "perfect_gen(start,end)"
   ]
  },
  {
   "cell_type": "code",
   "execution_count": null,
   "metadata": {},
   "outputs": [],
   "source": []
  }
 ],
 "metadata": {
  "kernelspec": {
   "display_name": "Python 3",
   "language": "python",
   "name": "python3"
  },
  "language_info": {
   "codemirror_mode": {
    "name": "ipython",
    "version": 3
   },
   "file_extension": ".py",
   "mimetype": "text/x-python",
   "name": "python",
   "nbconvert_exporter": "python",
   "pygments_lexer": "ipython3",
   "version": "3.8.5"
  }
 },
 "nbformat": 4,
 "nbformat_minor": 4
}
