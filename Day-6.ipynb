{
 "cells": [
  {
   "cell_type": "markdown",
   "metadata": {},
   "source": [
    "# Today's Concepts\n",
    "- Oops\n",
    "- Regular Expresions\n",
    "- Files\n",
    "- Matplotib"
   ]
  },
  {
   "cell_type": "markdown",
   "metadata": {},
   "source": [
    "## Oops : Object Orientied  Programming\n",
    "### Object : instance of class\n",
    "### its having propertie (var) and actions (method)\n",
    "### Class: Collection variable and Methods\n",
    "### Syntax : class className: \n",
    "- #variables \n",
    "- #Method"
   ]
  },
  {
   "cell_type": "code",
   "execution_count": 1,
   "metadata": {},
   "outputs": [],
   "source": [
    "class student:\n",
    "    pass"
   ]
  },
  {
   "cell_type": "code",
   "execution_count": 2,
   "metadata": {},
   "outputs": [],
   "source": [
    "# to create a object:\n",
    "# Syntax:\n",
    "# var = classname()\n",
    "s = student()\n"
   ]
  },
  {
   "cell_type": "code",
   "execution_count": 8,
   "metadata": {},
   "outputs": [],
   "source": [
    "class student:\n",
    "    x = 10 \n",
    "    y = 40\n",
    "    def Display(self):\n",
    "        name = input('enter the name of the student:')\n",
    "        print('python',name)"
   ]
  },
  {
   "cell_type": "code",
   "execution_count": 14,
   "metadata": {},
   "outputs": [
    {
     "name": "stdout",
     "output_type": "stream",
     "text": [
      "enter the name of the student:Akhil cj\n",
      "python Akhil cj\n"
     ]
    }
   ],
   "source": [
    "student().x\n",
    "student().y\n",
    "s = student()\n",
    "s.y\n",
    "s.Display()"
   ]
  },
  {
   "cell_type": "markdown",
   "metadata": {},
   "source": [
    "# Constuctor: when the time of  object creation constructor will be execute\n",
    "## Sntax: ___init__(self):\n",
    "         # statement:\n",
    "# Method:"
   ]
  },
  {
   "cell_type": "code",
   "execution_count": 29,
   "metadata": {},
   "outputs": [],
   "source": [
    "class Cse:\n",
    "    sections = 3\n",
    "    year = 2\n",
    "    def __init__(self):\n",
    "        print('This is constructor')\n",
    "    def Details(self):\n",
    "        print('hello {} having {} sections'.format(Cse.year,Cse.sections))"
   ]
  },
  {
   "cell_type": "code",
   "execution_count": 30,
   "metadata": {},
   "outputs": [
    {
     "name": "stdout",
     "output_type": "stream",
     "text": [
      "This is constructor\n",
      "hello 2 having 3 sections\n"
     ]
    }
   ],
   "source": [
    "c = Cse()\n",
    "c.Details()"
   ]
  },
  {
   "cell_type": "code",
   "execution_count": 40,
   "metadata": {},
   "outputs": [],
   "source": [
    "class Cse:\n",
    "    def __init__(self,sections,year):\n",
    "        print('This is constructor')\n",
    "        self.sections=sections\n",
    "        self.year=year\n",
    "    def Details(self):\n",
    "        print('hello {} having {} sections'.format(self.year,self.sections))"
   ]
  },
  {
   "cell_type": "code",
   "execution_count": 41,
   "metadata": {},
   "outputs": [
    {
     "name": "stdout",
     "output_type": "stream",
     "text": [
      "This is constructor\n",
      "hello 2 having 3 sections\n"
     ]
    }
   ],
   "source": [
    "c=Cse(3,2)\n",
    "c.Details()\n"
   ]
  },
  {
   "cell_type": "markdown",
   "metadata": {},
   "source": [
    "# Inheritance\n",
    "- Getting the properties from parent class to child class\n",
    "- Has -A creation  "
   ]
  },
  {
   "cell_type": "code",
   "execution_count": 46,
   "metadata": {},
   "outputs": [
    {
     "name": "stdout",
     "output_type": "stream",
     "text": [
      "10\n",
      "50\n",
      "143\n",
      "parent method\n",
      "None\n"
     ]
    }
   ],
   "source": [
    "class parent:\n",
    "    x=10\n",
    "    y=50\n",
    "    def M1(self):\n",
    "        print('parent method')\n",
    "class child:\n",
    "    a=143\n",
    "    def __init__(self):\n",
    "        self.parent=parent()\n",
    "    def M2(self):\n",
    "        print(self.parent.x)\n",
    "        print(self.parent.y)\n",
    "        print(child().a)\n",
    "        print(self.parent.M1())\n",
    "c=child()\n",
    "c.M2()\n",
    "\n",
    "        "
   ]
  },
  {
   "cell_type": "code",
   "execution_count": null,
   "metadata": {},
   "outputs": [],
   "source": []
  }
 ],
 "metadata": {
  "kernelspec": {
   "display_name": "Python 3",
   "language": "python",
   "name": "python3"
  },
  "language_info": {
   "codemirror_mode": {
    "name": "ipython",
    "version": 3
   },
   "file_extension": ".py",
   "mimetype": "text/x-python",
   "name": "python",
   "nbconvert_exporter": "python",
   "pygments_lexer": "ipython3",
   "version": "3.8.5"
  }
 },
 "nbformat": 4,
 "nbformat_minor": 4
}
